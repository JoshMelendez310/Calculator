{
 "cells": [
  {
   "cell_type": "code",
   "execution_count": 12,
   "metadata": {},
   "outputs": [
    {
     "name": "stdout",
     "output_type": "stream",
     "text": [
      "Please type the first number: 99\n",
      "Please type the second number: 211\n",
      "What kind of operation would you like to do?        \n",
      "Choose between \"+, -, *, /\" : +\n",
      "99 + 211 = 310\n"
     ]
    }
   ],
   "source": [
    "#Simple Calculator\n",
    "\n",
    "def calc(a, b, op):\n",
    "\n",
    "    \"\"\"\n",
    "\n",
    "    A simple calculator which takes the users input of 2 numbers and asks for them to either \n",
    "    add, subtract, multiply, or divide.\n",
    "\n",
    "    \"\"\"\n",
    "\n",
    "\n",
    "\n",
    "    if op not in '+-/*':\n",
    "\n",
    "        return 'Please only type one of these characters: \"+, -, *, /\"!'\n",
    "\n",
    "\n",
    "\n",
    "    if op == '+':\n",
    "\n",
    "        return(str(a) + ' ' + op + ' ' + str(b) + ' = ' + str(a + b))\n",
    "\n",
    "    if op == '-':\n",
    "\n",
    "        return(str(a) + ' ' + op + ' ' + str(b) + ' = ' + str(a - b))\n",
    "\n",
    "    if op == '*':\n",
    "\n",
    "        return(str(a) + ' ' + op + ' ' + str(b) + ' = ' + str(a * b))\n",
    "\n",
    "    if op == '/':\n",
    "\n",
    "        return(str(a) + ' ' + op + ' ' + str(b) + ' = ' + str(a / b))\n",
    "\n",
    "\n",
    "\n",
    "\n",
    "# Wrapper function\n",
    "def main(): \n",
    "\n",
    "\n",
    "\n",
    "    a = int(input('Please type the first number: '))\n",
    "\n",
    "    b = int(input('Please type the second number: '))\n",
    "\n",
    "    op = input(\n",
    "\n",
    "        'What kind of operation would you like to do?\\\n",
    "        \\nChoose between \"+, -, *, /\" : ')\n",
    "\n",
    "\n",
    "\n",
    "    print(calc(a, b, op))\n",
    "\n",
    "\n",
    "\n",
    "if __name__ == '__main__':\n",
    "\n",
    "    main()"
   ]
  }
 ],
 "metadata": {
  "kernelspec": {
   "display_name": "Python 3",
   "language": "python",
   "name": "python3"
  },
  "language_info": {
   "codemirror_mode": {
    "name": "ipython",
    "version": 3
   },
   "file_extension": ".py",
   "mimetype": "text/x-python",
   "name": "python",
   "nbconvert_exporter": "python",
   "pygments_lexer": "ipython3",
   "version": "3.7.3"
  }
 },
 "nbformat": 4,
 "nbformat_minor": 2
}
